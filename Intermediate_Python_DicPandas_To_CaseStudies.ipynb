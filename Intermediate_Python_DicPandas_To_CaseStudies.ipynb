{
 "cells": [
  {
   "cell_type": "markdown",
   "id": "9763c463",
   "metadata": {},
   "source": [
    "# 📒 Dictionaries — Part 1\n",
    "\n",
    "Comparing lists vs. dictionaries for mapping data.\n"
   ]
  },
  {
   "cell_type": "markdown",
   "id": "9232d7cd",
   "metadata": {},
   "source": [
    "## Why lists are not convenient\n",
    "\n",
    "When you have two related lists (e.g., countries and populations), you have to find the index of an element in one list and use it to get the corresponding element from the other list.\n"
   ]
  },
  {
   "cell_type": "code",
   "execution_count": 2,
   "id": "06689151",
   "metadata": {},
   "outputs": [
    {
     "data": {
      "text/plain": [
       "1"
      ]
     },
     "execution_count": 2,
     "metadata": {},
     "output_type": "execute_result"
    }
   ],
   "source": [
    "# Using lists\n",
    "pop = [30.55, 2.77, 39.21]\n",
    "countries = [\"afghanistan\", \"albania\", \"algeria\"]\n",
    "\n",
    "# Find index of Albania\n",
    "ind_alb = countries.index(\"albania\")\n",
    "ind_alb\n"
   ]
  },
  {
   "cell_type": "code",
   "execution_count": 3,
   "id": "8a4fc71b",
   "metadata": {},
   "outputs": [
    {
     "data": {
      "text/plain": [
       "2.77"
      ]
     },
     "execution_count": 3,
     "metadata": {},
     "output_type": "execute_result"
    }
   ],
   "source": [
    "# Get population of Albania\n",
    "pop[ind_alb]\n"
   ]
  },
  {
   "cell_type": "markdown",
   "id": "6cb5a1c4",
   "metadata": {},
   "source": [
    "### ⚠️ Problems with this approach:\n",
    "- ❌ Not convenient — you need to search for the index manually.\n",
    "- ❌ Not intuitive — it's not clear that `pop[ind_alb]` refers to \"albania\".\n",
    "- ❌ Error-prone if the two lists get out of sync.\n",
    "\n",
    "➡️ Better: Use a **dictionary**.\n"
   ]
  },
  {
   "cell_type": "code",
   "execution_count": 5,
   "id": "c7ff82d7",
   "metadata": {},
   "outputs": [
    {
     "data": {
      "text/plain": [
       "2.77"
      ]
     },
     "execution_count": 5,
     "metadata": {},
     "output_type": "execute_result"
    }
   ],
   "source": [
    "# Using a dictionary\n",
    "pop_dict = {\n",
    "    \"afghanistan\": 30.55,\n",
    "    \"albania\": 2.77,\n",
    "    \"algeria\": 39.21\n",
    "}\n",
    "\n",
    "# Get population of Albania\n",
    "pop_dict[\"albania\"]\n"
   ]
  },
  {
   "cell_type": "markdown",
   "id": "81429814",
   "metadata": {},
   "source": [
    "### ✅ Advantages of dictionaries:\n",
    "- 👍 Direct mapping from key (\"albania\") to value (2.77).\n",
    "- 👍 More readable & intuitive.\n",
    "- 👍 Safer & easier to maintain.\n",
    "\n",
    "---\n"
   ]
  },
  {
   "cell_type": "code",
   "execution_count": null,
   "id": "72b6da06",
   "metadata": {},
   "outputs": [],
   "source": []
  }
 ],
 "metadata": {
  "kernelspec": {
   "display_name": "Python 3 (ipykernel)",
   "language": "python",
   "name": "python3"
  },
  "language_info": {
   "codemirror_mode": {
    "name": "ipython",
    "version": 3
   },
   "file_extension": ".py",
   "mimetype": "text/x-python",
   "name": "python",
   "nbconvert_exporter": "python",
   "pygments_lexer": "ipython3",
   "version": "3.12.3"
  }
 },
 "nbformat": 4,
 "nbformat_minor": 5
}
