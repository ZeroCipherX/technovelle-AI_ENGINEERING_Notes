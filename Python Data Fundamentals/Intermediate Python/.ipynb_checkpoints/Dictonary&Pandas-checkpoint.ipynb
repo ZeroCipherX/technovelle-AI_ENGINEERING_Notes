{
 "cells": [
  {
   "cell_type": "markdown",
   "id": "9763c463",
   "metadata": {},
   "source": [
    "# 📒 Dictionaries — Part 1\n",
    "\n",
    "Comparing lists vs. dictionaries for mapping data.\n"
   ]
  },
  {
   "cell_type": "markdown",
   "id": "9232d7cd",
   "metadata": {},
   "source": [
    "## Why lists are not convenient\n",
    "\n",
    "When you have two related lists (e.g., countries and populations), you have to find the index of an element in one list and use it to get the corresponding element from the other list.\n"
   ]
  },
  {
   "cell_type": "code",
   "execution_count": 2,
   "id": "06689151",
   "metadata": {},
   "outputs": [
    {
     "data": {
      "text/plain": [
       "1"
      ]
     },
     "execution_count": 2,
     "metadata": {},
     "output_type": "execute_result"
    }
   ],
   "source": [
    "# Using lists\n",
    "pop = [30.55, 2.77, 39.21]\n",
    "countries = [\"afghanistan\", \"albania\", \"algeria\"]\n",
    "\n",
    "# Find index of Albania\n",
    "ind_alb = countries.index(\"albania\")\n",
    "ind_alb\n"
   ]
  },
  {
   "cell_type": "code",
   "execution_count": 3,
   "id": "8a4fc71b",
   "metadata": {},
   "outputs": [
    {
     "data": {
      "text/plain": [
       "2.77"
      ]
     },
     "execution_count": 3,
     "metadata": {},
     "output_type": "execute_result"
    }
   ],
   "source": [
    "# Get population of Albania\n",
    "pop[ind_alb]\n"
   ]
  },
  {
   "cell_type": "markdown",
   "id": "6cb5a1c4",
   "metadata": {},
   "source": [
    "### ⚠️ Problems with this approach:\n",
    "- ❌ Not convenient — you need to search for the index manually.\n",
    "- ❌ Not intuitive — it's not clear that `pop[ind_alb]` refers to \"albania\".\n",
    "- ❌ Error-prone if the two lists get out of sync.\n",
    "\n",
    "➡️ Better: Use a **dictionary**.\n"
   ]
  },
  {
   "cell_type": "code",
   "execution_count": 5,
   "id": "c7ff82d7",
   "metadata": {},
   "outputs": [
    {
     "data": {
      "text/plain": [
       "2.77"
      ]
     },
     "execution_count": 5,
     "metadata": {},
     "output_type": "execute_result"
    }
   ],
   "source": [
    "# Using a dictionary\n",
    "pop_dict = {\n",
    "    \"afghanistan\": 30.55,\n",
    "    \"albania\": 2.77,\n",
    "    \"algeria\": 39.21\n",
    "}\n",
    "\n",
    "# Get population of Albania\n",
    "pop_dict[\"albania\"]\n"
   ]
  },
  {
   "cell_type": "markdown",
   "id": "81429814",
   "metadata": {},
   "source": [
    "### ✅ Advantages of dictionaries:\n",
    "- 👍 Direct mapping from key (\"albania\") to value (2.77).\n",
    "- 👍 More readable & intuitive.\n",
    "- 👍 Safer & easier to maintain.\n",
    "\n",
    "---\n"
   ]
  },
  {
   "cell_type": "markdown",
   "id": "74a6d8d7",
   "metadata": {},
   "source": [
    "# 📚 Intermediate Python — Recap: Dictionaries\n",
    "\n",
    "Examples of creating, updating, and deleting dictionary items in Python."
   ]
  },
  {
   "cell_type": "markdown",
   "id": "e553d16c",
   "metadata": {},
   "source": [
    "## Creating a dictionary\n",
    "\n",
    "Keys must be **unique**, and they must be immutable (e.g., strings, numbers, tuples)."
   ]
  },
  {
   "cell_type": "code",
   "execution_count": null,
   "id": "1d0f167e",
   "metadata": {},
   "outputs": [],
   "source": [
    "# Initial dictionary\n",
    "world = {\"afghanistan\": 30.55, \"albania\": 2.77, \"algeria\": 39.21}\n",
    "world"
   ]
  },
  {
   "cell_type": "code",
   "execution_count": null,
   "id": "55d2888c",
   "metadata": {},
   "outputs": [],
   "source": [
    "# Accessing a value\n",
    "world[\"albania\"]"
   ]
  },
  {
   "cell_type": "markdown",
   "id": "ca702c44",
   "metadata": {},
   "source": [
    "## Updating a value\n",
    "\n",
    "Duplicate keys in the definition will keep the **last value**."
   ]
  },
  {
   "cell_type": "code",
   "execution_count": null,
   "id": "b35956c8",
   "metadata": {},
   "outputs": [],
   "source": [
    "world = {\"afghanistan\":30.55, \"albania\":2.77, \"algeria\":39.21, \"albania\":2.81}\n",
    "world"
   ]
  },
  {
   "cell_type": "markdown",
   "id": "1aeda848",
   "metadata": {},
   "source": [
    "## Immutable keys\n",
    "\n",
    "Keys must be immutable. Lists cannot be used as keys because they are mutable."
   ]
  },
  {
   "cell_type": "code",
   "execution_count": null,
   "id": "b078b9e6",
   "metadata": {},
   "outputs": [],
   "source": [
    "# Valid keys\n",
    "{0: \"hello\", True: \"dear\", \"two\": \"world\"}"
   ]
  },
  {
   "cell_type": "code",
   "execution_count": null,
   "id": "0c70a772",
   "metadata": {},
   "outputs": [],
   "source": [
    "# Invalid key example\n",
    "{[\"just\", \"to\", \"test\"]: \"value\"}  # This will raise TypeError"
   ]
  },
  {
   "cell_type": "markdown",
   "id": "3d68adc0",
   "metadata": {},
   "source": [
    "## Adding a new key-value pair\n",
    "\n",
    "We can add new items to the dictionary by assignment."
   ]
  },
  {
   "cell_type": "code",
   "execution_count": null,
   "id": "76cbdd44",
   "metadata": {},
   "outputs": [],
   "source": [
    "world[\"sealand\"] = 0.000027\n",
    "world"
   ]
  },
  {
   "cell_type": "markdown",
   "id": "bf174850",
   "metadata": {},
   "source": [
    "## Check if a key exists"
   ]
  },
  {
   "cell_type": "code",
   "execution_count": null,
   "id": "ce9b7bf2",
   "metadata": {},
   "outputs": [],
   "source": [
    "\"sealand\" in world"
   ]
  },
  {
   "cell_type": "markdown",
   "id": "034c9369",
   "metadata": {},
   "source": [
    "## Updating & Deleting\n",
    "\n",
    "We can reassign or delete a key."
   ]
  },
  {
   "cell_type": "code",
   "execution_count": null,
   "id": "82b0a77b",
   "metadata": {},
   "outputs": [],
   "source": [
    "# Update\n",
    "world[\"sealand\"] = 0.000028\n",
    "world"
   ]
  },
  {
   "cell_type": "code",
   "execution_count": null,
   "id": "0fb7059d",
   "metadata": {},
   "outputs": [],
   "source": [
    "# Delete\n",
    "del(world[\"sealand\"])\n",
    "world"
   ]
  },
  {
   "cell_type": "markdown",
   "id": "4c7558c0",
   "metadata": {},
   "source": [
    "# 📋 List vs Dictionary — Simple Comparison\n",
    "\n",
    "| 🔷 Feature                  | 🧺 **List**                                   | 📖 **Dictionary**                        |\n",
    "|-----------------------------|---------------------------------------------|-----------------------------------------|\n",
    "| 🔍 How to get an item?       | By **position number** (e.g., `list[0]`)   | By **name/key** (e.g., `dict[\"name\"]`) |\n",
    "| 📋 How is it organized?      | Ordered sequence of items                 | Pairs of **key → value**               |\n",
    "| 🔁 Does order matter?        | Yes — keeps the order you added           | Yes (since Python 3.7)                |\n",
    "| 🔑 What identifies an item?  | A number starting from 0                  | A unique, immutable key (string, number, etc.) |\n",
    "| 🛠 Best for…                 | A simple list of things where order matters | A lookup table where you need to quickly find something by its name |\n",
    "| 🧪 Example                   | `[\"apple\", \"banana\", \"cherry\"]`           | `{\"Alice\": \"555-1234\", \"Bob\": \"555-5678\"}` |\n",
    "| 🔗 Use case                  | Shopping list, to-do list                 | Phonebook, dictionary of configurations |\n"
   ]
  },
  {
   "cell_type": "markdown",
   "id": "8073fab9",
   "metadata": {},
   "source": [
    "Instructions\n",
    "100 XP\n",
    "Use chained square brackets to select and print out the capital of France.\n",
    "Create a dictionary, named data, with the keys 'capital' and 'population'. Set them to 'rome' and 59.83, respectively.\n",
    "Add a new key-value pair to europe; the key is 'italy' and the value is data, the dictionary you just built."
   ]
  },
  {
   "cell_type": "code",
   "execution_count": 3,
   "id": "72b6da06",
   "metadata": {},
   "outputs": [
    {
     "name": "stdout",
     "output_type": "stream",
     "text": [
      "paris\n",
      "{'spain': {'capital': 'madrid', 'population': 46.77}, 'france': {'capital': 'paris', 'population': 66.03}, 'germany': {'capital': 'berlin', 'population': 80.62}, 'norway': {'capital': 'oslo', 'population': 5.084}, 'italy': {'capital': 'rome', 'population': 59.83}}\n"
     ]
    }
   ],
   "source": [
    "# Dictionary of dictionaries\n",
    "europe = { 'spain': { 'capital':'madrid', 'population':46.77 },\n",
    "           'france': { 'capital':'paris', 'population':66.03 },\n",
    "           'germany': { 'capital':'berlin', 'population':80.62 },\n",
    "           'norway': { 'capital':'oslo', 'population':5.084 } }\n",
    "\n",
    "\n",
    "# Print out the capital of France\n",
    "print(europe['france']['capital'])\n",
    "\n",
    "# Create sub-dictionary data\n",
    "data = {'capital': 'rome', 'population': 59.83}\n",
    "\n",
    "# Add data to europe under key 'italy'\n",
    "europe['italy'] = data\n",
    "\n",
    "# Print europe\n",
    "print(europe)"
   ]
  },
  {
   "cell_type": "markdown",
   "id": "bb34103b",
   "metadata": {},
   "source": [
    "# 📊 Pandas, Part 1 — Datasets in Python\n",
    "\n",
    "\n",
    "\n",
    "## 📋 Tabular Dataset Examples\n",
    "- Data arranged in rows & columns\n",
    "- Examples:\n",
    "  - Spreadsheets (Excel, Google Sheets)\n",
    "  - SQL tables\n",
    "  - CSV files\n",
    "  - DataFrames in Python\n",
    "\n",
    "---\n",
    "\n",
    "## 📋 2D NumPy Array\n",
    "- A way to store tabular data in Python\n",
    "- But:\n",
    "  - ✅ Efficient for numbers\n",
    "  - ❌ Only supports **one data type** across all elements\n",
    "  - ❌ No labels (just numeric indices)\n",
    "\n",
    "---\n",
    "\n",
    "## 📋 pandas!\n",
    "- 🧰 A **high-level data manipulation tool** for Python\n",
    "- Created by **Wes McKinney**\n",
    "- Built on top of **NumPy**\n",
    "- Core object: **DataFrame**\n",
    "  - Handles tabular data\n",
    "  - Supports **mixed data types**\n",
    "  - Supports **row and column labels**\n",
    "  - Very flexible and powerful\n",
    "\n",
    "---\n",
    "\n",
    "### Summary:\n",
    "| Feature                     | 2D NumPy Array         | pandas DataFrame |\n",
    "|-----------------------------|-------------------------|-------------------|\n",
    "| 🔷 Data type                 | Single type (numeric)  | Mixed types       |\n",
    "| 🔷 Labels                    | ❌ No labels            | ✅ Row & column labels |\n",
    "| 🔷 Flexibility               | Low                    | High              |\n",
    "| 🔷 Best for                  | Numerical computation  | Data analysis & manipulation |\n",
    "\n",
    "---\n",
    "\n",
    "✨ Notes:\n",
    "> If you need **fast computation** on homogeneous numeric data → use NumPy arrays.  \n",
    "> If you need to work with real-world tabular data → use pandas DataFrames.\n",
    "\n",
    "---\n",
    "\n",
    "---\n",
    "\n",
    "## 📋 Example DataFrame\n",
    "\n",
    "|       | country        | capital   | area   | population |\n",
    "|-------|----------------|-----------|--------|------------|\n",
    "| **BR** | Brazil         | Brasilia  | 8.516  | 200.40     |\n",
    "| **RU** | Russia         | Moscow    | 17.100 | 143.50     |\n",
    "| **IN** | India          | New Delhi | 3.286  | 1252.00    |\n",
    "| **CH** | China          | Beijing   | 9.597  | 1357.00    |\n",
    "| **SA** | South Africa   | Pretoria  | 1.221  | 52.98      |\n",
    "\n",
    "---\n",
    "\n",
    "## 📋 Create DataFrame from a Dictionary\n",
    "\n",
    "```python\n",
    "import pandas as pd\n",
    "\n",
    "data = {\n",
    "    \"country\": [\"Brazil\", \"Russia\", \"India\", \"China\", \"South Africa\"],\n",
    "    \"capital\": [\"Brasilia\", \"Moscow\", \"New Delhi\", \"Beijing\", \"Pretoria\"],\n",
    "    \"area\": [8.516, 17.10, 3.286, 9.597, 1.221],\n",
    "    \"population\": [200.4, 143.5, 1252, 1357, 52.98]\n",
    "}\n",
    "\n",
    "brics = pd.DataFrame(data)\n",
    "brics\n",
    "````\n",
    "\n",
    "---\n",
    "\n",
    "### 📋 Set Custom Index\n",
    "\n",
    "```python\n",
    "brics.index = [\"BR\", \"RU\", \"IN\", \"CH\", \"SA\"]\n",
    "brics\n",
    "```\n",
    "\n",
    "---\n",
    "\n",
    "## 📋 Create DataFrame from CSV file\n",
    "\n",
    "### Example CSV file (`brics.csv`)\n",
    "\n",
    "```\n",
    ",country,capital,area,population\n",
    "BR,Brazil,Brasilia,8.516,200.4\n",
    "RU,Russia,Moscow,17.10,143.5\n",
    "IN,India,New Delhi,3.286,1252\n",
    "CH,China,Beijing,9.597,1357\n",
    "SA,South Africa,Pretoria,1.221,52.98\n",
    "```\n",
    "\n",
    "---\n",
    "\n",
    "### Read CSV into DataFrame\n",
    "\n",
    "```python\n",
    "brics = pd.read_csv(\"path/to/brics.csv\")\n",
    "brics\n",
    "```\n",
    "\n",
    "Output (with default index):\n",
    "\n",
    "|   | Unnamed: 0 | country      | capital   | area  | population |\n",
    "| - | ---------- | ------------ | --------- | ----- | ---------- |\n",
    "| 0 | BR         | Brazil       | Brasilia  | 8.516 | 200.4      |\n",
    "| 1 | RU         | Russia       | Moscow    | 17.10 | 143.5      |\n",
    "| 2 | IN         | India        | New Delhi | 3.286 | 1252       |\n",
    "| 3 | CH         | China        | Beijing   | 9.597 | 1357       |\n",
    "| 4 | SA         | South Africa | Pretoria  | 1.221 | 52.98      |\n",
    "\n",
    "---\n",
    "\n",
    "### Read CSV with custom index\n",
    "\n",
    "```python\n",
    "brics = pd.read_csv(\"path/to/brics.csv\", index_col=0)\n",
    "brics\n",
    "```\n",
    "\n",
    "Output:\n",
    "\n",
    "|        | country      | capital   | area  | population |\n",
    "| ------ | ------------ | --------- | ----- | ---------- |\n",
    "| **BR** | Brazil       | Brasilia  | 8.516 | 200        |\n",
    "| **RU** | Russia       | Moscow    | 17.10 | 144        |\n",
    "| **IN** | India        | New Delhi | 3.286 | 1252       |\n",
    "| **CH** | China        | Beijing   | 9.597 | 1357       |\n",
    "| **SA** | South Africa | Pretoria  | 1.221 | 55         |\n",
    "\n",
    "---\n",
    "\n",
    "✨ Notes:\n",
    "\n",
    "* `pd.DataFrame()` → create from Python data (like a dict)\n",
    "* `pd.read_csv()` → load from CSV file\n",
    "* `index_col=0` → use the first column as the row index\n",
    "\n",
    "---\n",
    "\n",
    "\n",
    "\n"
   ]
  },
  {
   "cell_type": "code",
   "execution_count": null,
   "id": "113fd832",
   "metadata": {},
   "outputs": [],
   "source": []
  },
  {
   "cell_type": "code",
   "execution_count": null,
   "id": "7cde468d",
   "metadata": {},
   "outputs": [],
   "source": []
  }
 ],
 "metadata": {
  "kernelspec": {
   "display_name": "Python 3 (ipykernel)",
   "language": "python",
   "name": "python3"
  },
  "language_info": {
   "codemirror_mode": {
    "name": "ipython",
    "version": 3
   },
   "file_extension": ".py",
   "mimetype": "text/x-python",
   "name": "python",
   "nbconvert_exporter": "python",
   "pygments_lexer": "ipython3",
   "version": "3.12.3"
  }
 },
 "nbformat": 4,
 "nbformat_minor": 5
}
